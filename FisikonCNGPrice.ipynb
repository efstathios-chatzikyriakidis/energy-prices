{
  "nbformat": 4,
  "nbformat_minor": 0,
  "metadata": {
    "colab": {
      "provenance": [],
      "collapsed_sections": [],
      "include_colab_link": true
    },
    "kernelspec": {
      "name": "python3",
      "display_name": "Python 3"
    },
    "language_info": {
      "name": "python"
    }
  },
  "cells": [
    {
      "cell_type": "markdown",
      "metadata": {
        "id": "view-in-github",
        "colab_type": "text"
      },
      "source": [
        "<a href=\"https://colab.research.google.com/github/efstathios-chatzikyriakidis/energy-prices/blob/main/FisikonCNGPrice.ipynb\" target=\"_parent\"><img src=\"https://colab.research.google.com/assets/colab-badge.svg\" alt=\"Open In Colab\"/></a>"
      ]
    },
    {
      "cell_type": "code",
      "execution_count": null,
      "metadata": {
        "id": "xQuM_cjeuu3c"
      },
      "outputs": [],
      "source": [
        "!pip install tabula-py\n",
        "\n",
        "!pip install --upgrade \"kaleido==0.1.*\""
      ]
    },
    {
      "cell_type": "code",
      "source": [
        "import requests\n",
        "\n",
        "import pandas as pd\n",
        "\n",
        "from bs4 import BeautifulSoup\n",
        "\n",
        "from datetime import datetime\n",
        "\n",
        "from tabula import read_pdf\n",
        "\n",
        "import plotly.express as px\n",
        "\n",
        "import plotly.io as pio"
      ],
      "metadata": {
        "id": "x4CIzZgAwUY3"
      },
      "execution_count": null,
      "outputs": []
    },
    {
      "cell_type": "code",
      "source": [
        "def is_date(date: str) -> bool:\n",
        "  try:\n",
        "    datetime.strptime(date, '%d/%m/%Y')\n",
        "\n",
        "    return True\n",
        "  except ValueError:\n",
        "    return False"
      ],
      "metadata": {
        "id": "jK_8VqL45t-B"
      },
      "execution_count": null,
      "outputs": []
    },
    {
      "cell_type": "code",
      "source": [
        "req = requests.get(\"https://www.fisikon.gr/giati-fisikon\")\n",
        "\n",
        "soup = BeautifulSoup(req.text, \"lxml\")"
      ],
      "metadata": {
        "id": "VF3TFjDpwNjl"
      },
      "execution_count": null,
      "outputs": []
    },
    {
      "cell_type": "code",
      "source": [
        "link = soup.find('a', text=\"εδώ\")"
      ],
      "metadata": {
        "id": "o2MzEHx_w5ZK"
      },
      "execution_count": null,
      "outputs": []
    },
    {
      "cell_type": "code",
      "source": [
        "tables = read_pdf(link['href'], pages='all', pandas_options={'header': None})"
      ],
      "metadata": {
        "id": "PiUNrK6Nx4JO"
      },
      "execution_count": null,
      "outputs": []
    },
    {
      "cell_type": "code",
      "source": [
        "dfs = []\n",
        "\n",
        "for table in tables:\n",
        "  dfs.append(pd.DataFrame(table))"
      ],
      "metadata": {
        "id": "CPHOrM3W2RFa"
      },
      "execution_count": null,
      "outputs": []
    },
    {
      "cell_type": "code",
      "source": [
        "for df in dfs:\n",
        "  df.columns = ['date', 'price']"
      ],
      "metadata": {
        "id": "nZLMaj3yyjIj"
      },
      "execution_count": null,
      "outputs": []
    },
    {
      "cell_type": "code",
      "source": [
        "all_data_df = pd.concat(dfs, ignore_index=True)"
      ],
      "metadata": {
        "id": "T3C6TJpmaGyS"
      },
      "execution_count": null,
      "outputs": []
    },
    {
      "cell_type": "code",
      "source": [
        "all_data_df = all_data_df[(all_data_df['price'].apply(lambda o: type(o) == float)) & ~(all_data_df['price'].isnull()) & ~(all_data_df['date'].isnull())]\n",
        "\n",
        "all_data_df = all_data_df[all_data_df['date'].apply(is_date)].copy()\n",
        "\n",
        "all_data_df.set_index('date', inplace=True)\n",
        "\n",
        "all_data_df.index = pd.DatetimeIndex(all_data_df.index)\n",
        "\n",
        "all_data_df.sort_index(ascending=True, inplace=True)"
      ],
      "metadata": {
        "id": "QuxQycPbaVJS"
      },
      "execution_count": null,
      "outputs": []
    },
    {
      "cell_type": "code",
      "source": [
        "all_data_imputed_df = all_data_df.resample('D').min().ffill()"
      ],
      "metadata": {
        "id": "d_RHM_2Sfhkl"
      },
      "execution_count": null,
      "outputs": []
    },
    {
      "cell_type": "code",
      "source": [
        "all_data_imputed_df"
      ],
      "metadata": {
        "id": "KkT7BSLwkUmE"
      },
      "execution_count": null,
      "outputs": []
    },
    {
      "cell_type": "code",
      "source": [
        "fig = px.line(all_data_imputed_df, y=\"price\", labels={ \"date\": \"Date\", \"price\": \"Price (€)\" }, title=f\"Fisikon CNG Price ({min(all_data_imputed_df.index).strftime('%d/%m/%Y')} - {max(all_data_imputed_df.index).strftime('%d/%m/%Y')})\")\n",
        "\n",
        "fig.update_xaxes(tickangle = 90)\n",
        "\n",
        "fig.update_xaxes(ticks=\"outside\", tickwidth=2, tickcolor='black', ticklen=10)\n",
        "fig.update_yaxes(ticks=\"outside\", tickwidth=2, tickcolor='black', ticklen=10)\n",
        "\n",
        "fig.update_yaxes(nticks=20)\n",
        "fig.update_xaxes(nticks=40)\n",
        "\n",
        "fig"
      ],
      "metadata": {
        "id": "CrGt4bTkjob2"
      },
      "execution_count": null,
      "outputs": []
    },
    {
      "cell_type": "code",
      "source": [
        "pio.write_image(fig, \"cng.png\", width=8 * 300, height=2 * 300, scale=5) # 300 DPI"
      ],
      "metadata": {
        "id": "MHdi-JxZ09_f"
      },
      "execution_count": null,
      "outputs": []
    }
  ]
}